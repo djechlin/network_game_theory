{
 "cells": [
  {
   "cell_type": "code",
   "execution_count": 3,
   "metadata": {
    "collapsed": false,
    "deletable": true,
    "editable": true
   },
   "outputs": [],
   "source": [
    "import itertools\n",
    "import numpy as np\n",
    "import random\n",
    "import tensorflow as tf\n",
    "import matplotlib.pyplot as plt\n",
    "%matplotlib inline\n",
    "import tensorflow.contrib.slim as slim\n",
    "import matplotlib.pyplot as plt\n",
    "import scipy.misc\n",
    "import os\n",
    "\n",
    "from game import *\n",
    "from random import randint\n",
    "import networkx as nx"
   ]
  },
  {
   "cell_type": "code",
   "execution_count": 4,
   "metadata": {
    "collapsed": false,
    "deletable": true,
    "editable": true
   },
   "outputs": [],
   "source": [
    "rules = Rules()\n",
    "rules.nb_max_step = 100\n",
    "rules.nb_players = 10\n",
    "\n",
    "game1 = Game()\n",
    "game1.rules = rules\n",
    "\n",
    "player1 = Player()\n",
    "player1.rules = rules\n",
    "player1.type = EntityType.competitive_player\n",
    "\n",
    "game1.add_player(player1)\n",
    "\n",
    "game1.initialize_graph()\n",
    "\n",
    "def get_game_graph(game):\n",
    "    return np.float32(nx.adjacency_matrix(game.graph).todense())\n",
    "\n",
    "def get_actions(game):\n",
    "    return list(itertools.combinations(list(game.players.keys()), 2))\n",
    "\n",
    "def get_action_space(game):\n",
    "    actions = get_actions(game)\n",
    "    return len(actions)\n",
    "\n",
    "def get_input_space(game):\n",
    "    return game.rules.nb_players**2\n",
    "\n",
    "tf.reset_default_graph()\n",
    "#These lines establish the feed-forward part of the network used to choose actions\n",
    "action_space = get_action_space(game1)\n",
    "input_space = get_input_space(game1)\n",
    "\n",
    "inputs1 = tf.placeholder(shape=[1,input_space],dtype=tf.float32)\n",
    "W = tf.Variable(tf.random_uniform([input_space, action_space],0,0.01))\n",
    "b = tf.Variable(tf.zeros([action_space]))\n",
    "Qout = tf.matmul(inputs1,W) + b\n",
    "predict = tf.argmax(Qout,1)\n",
    "\n",
    "#Below we obtain the loss by taking the sum of squares difference between the target and prediction Q values.\n",
    "nextQ = tf.placeholder(shape=[1,action_space],dtype=tf.float32)\n",
    "loss = tf.reduce_sum(tf.square(nextQ - Qout))\n",
    "trainer = tf.train.AdamOptimizer(learning_rate=0.001)\n",
    "updateModel = trainer.minimize(loss)\n",
    "init = tf.global_variables_initializer()"
   ]
  },
  {
   "cell_type": "code",
   "execution_count": 5,
   "metadata": {
    "collapsed": false,
    "deletable": true,
    "editable": true
   },
   "outputs": [
    {
     "name": "stdout",
     "output_type": "stream",
     "text": [
      "Episode 0\n",
      "Episode 10\n",
      "Percent of succesful episodes: 1.85%\n"
     ]
    },
    {
     "data": {
      "text/plain": [
       "[<matplotlib.lines.Line2D at 0x11f040cc0>]"
      ]
     },
     "execution_count": 5,
     "metadata": {},
     "output_type": "execute_result"
    },
    {
     "data": {
      "image/png": "[encoded data removed]",
      "text/plain": [
       "<matplotlib.figure.Figure at 0x11ecaa780>"
      ]
     },
     "metadata": {},
     "output_type": "display_data"
    }
   ],
   "source": [
    "# Set learning parameters\n",
    "y = .99\n",
    "e = 0.1\n",
    "num_episodes = 20\n",
    "#create lists to contain total rewards and steps per episode\n",
    "jList = []\n",
    "rList = []\n",
    "winList = []\n",
    "with tf.Session() as sess:\n",
    "    sess.run(init)\n",
    "    for i in range(num_episodes):\n",
    "        #Reset environment and get first new observation\n",
    "        if i % 10 == 0:\n",
    "            print(\"Episode {}\".format(i))\n",
    "        rules = Rules()\n",
    "        rules.nb_max_step = 100\n",
    "        rules.nb_players = 10\n",
    "        game1 = Game()\n",
    "        game1.rules = rules\n",
    "        player1 = Player()\n",
    "        player1.name = \"RL\"\n",
    "        player1.rules = rules\n",
    "        player1.type = EntityType.competitive_player\n",
    "        game1.add_player(player1)\n",
    "        \n",
    "        \n",
    "        player2 = Player()\n",
    "        player2.rules = rules\n",
    "        player2.name = \"Heuristic\"\n",
    "        player2.type = EntityType.competitive_player\n",
    "        strategy_builder = StrategyBuilder()\n",
    "        player2.strategy = strategy_builder.get_random_egoist_strategy()\n",
    "        game1.add_player(player2)\n",
    "        \n",
    "        game1.initialize_graph()\n",
    "        \n",
    "        s = get_game_graph(game1).flatten()\n",
    "        \n",
    "        rAll = 0\n",
    "        previous_centrality = 0\n",
    "        d = False\n",
    "        j = 0\n",
    "        win = 0\n",
    "        #The Q-Network\n",
    "        while j < rules.nb_max_step:\n",
    "            j+=1\n",
    "            #Choose an action by greedily (with e chance of random action) from the Q-network\n",
    "            a, allQ = sess.run([predict,Qout],feed_dict={inputs1:s})\n",
    "            if np.random.rand(1) < e:\n",
    "                a[0] = np.random.randint(action_space)\n",
    "            #Get new state and reward from environment\n",
    "            action = None\n",
    "            possible_actions = get_actions(game1)\n",
    "            if a[0] is not 0:\n",
    "                action = [possible_actions[a[0]]]\n",
    "            else:\n",
    "                action = None\n",
    "            actions = list(game1.get_actions())\n",
    "            action.extend(actions)\n",
    "            game1.play_round(actions=action)\n",
    "            s1 = get_game_graph(game1).flatten()\n",
    "            centralities = nx.betweenness_centrality(game1.graph)\n",
    "            centrality = centralities[0]\n",
    "            if centrality == previous_centrality:\n",
    "                r = 0\n",
    "            elif centrality > previous_centrality:\n",
    "                r = 1\n",
    "            else:\n",
    "                r = -1\n",
    "            #print(centrality, previous_centrality, r)\n",
    "            #Obtain the Q' values by feeding the new state through our network\n",
    "            Q1 = sess.run(Qout,feed_dict={inputs1:s1})\n",
    "            #Obtain maxQ' and set our target value for chosen action.\n",
    "            maxQ1 = np.max(Q1)\n",
    "            targetQ = allQ\n",
    "            targetQ[0,a[0]] = r + y*maxQ1\n",
    "            #Train our network using target and predicted Q values\n",
    "            _,W1 = sess.run([updateModel,W],feed_dict={inputs1:s,nextQ:targetQ})\n",
    "            rAll += r\n",
    "            s = s1\n",
    "            previous_centrality = centrality\n",
    "            \n",
    "            opponent_centrality = centralities[1]\n",
    "            if centrality > opponent_centrality:\n",
    "                win += 1\n",
    "            if centrality == 1.0 and j > 20:\n",
    "                #Reduce chance of random action as we train the model.\n",
    "                e = 1./((i/50) + 10)\n",
    "                break\n",
    "        winList.append(win)\n",
    "        jList.append(j)\n",
    "        rList.append(rAll)\n",
    "rList = np.array(rList)\n",
    "print(\"Percent of succesful episodes: \" + str(np.sum(rList)/num_episodes) + \"%\")\n",
    "\n",
    "plt.plot(winList)"
   ]
  },
  {
   "cell_type": "code",
   "execution_count": null,
   "metadata": {
    "collapsed": true,
    "deletable": true,
    "editable": true
   },
   "outputs": [],
   "source": []
  }
 ],
 "metadata": {
  "kernelspec": {
   "display_name": "Python [Root]",
   "language": "python",
   "name": "Python [Root]"
  },
  "language_info": {
   "codemirror_mode": {
    "name": "ipython",
    "version": 3
   },
   "file_extension": ".py",
   "mimetype": "text/x-python",
   "name": "python",
   "nbconvert_exporter": "python",
   "pygments_lexer": "ipython3",
   "version": "3.5.2"
  }
 },
 "nbformat": 4,
 "nbformat_minor": 1
}

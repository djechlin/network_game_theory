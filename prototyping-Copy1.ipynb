{
 "cells": [
  {
   "cell_type": "code",
   "execution_count": 1,
   "metadata": {
    "collapsed": true,
    "deletable": true,
    "editable": true
   },
   "outputs": [],
   "source": [
    "import numpy as np\n",
    "import tensorflow as tf\n",
    "import matplotlib.pyplot as plt\n",
    "%matplotlib inline\n",
    "\n",
    "from game import *\n",
    "from random import randint\n",
    "import networkx as nx\n",
    "import random"
   ]
  },
  {
   "cell_type": "code",
   "execution_count": 2,
   "metadata": {
    "collapsed": false,
    "deletable": true,
    "editable": true
   },
   "outputs": [],
   "source": [
    "rules = Rules()\n",
    "rules.nb_max_step = 100\n",
    "rules.nb_players = 10\n",
    "\n",
    "game1 = Game()\n",
    "game1.rules = rules\n",
    "\n",
    "player1 = Player()\n",
    "player1.rules = rules\n",
    "player1.type = EntityType.competitive_player\n",
    "\n",
    "game1.add_player(player1)\n",
    "\n",
    "game1.initialize_graph()"
   ]
  },
  {
   "cell_type": "code",
   "execution_count": 3,
   "metadata": {
    "collapsed": false,
    "deletable": true,
    "editable": true
   },
   "outputs": [],
   "source": [
    "random_g = nx.random_graphs.erdos_renyi_graph(10, .3)"
   ]
  },
  {
   "cell_type": "code",
   "execution_count": 46,
   "metadata": {
    "collapsed": false,
    "deletable": true,
    "editable": true
   },
   "outputs": [],
   "source": [
    "#### we want an approximation of betweenness centrality.\n",
    "\n",
    "def getVertexDiameter(G):\n",
    "    \"\"\"\n",
    "    This is guaranteed to be between VD(G) and 2*VD(G)\n",
    "    \"\"\"\n",
    "    v = random.choice(G.nodes())\n",
    "    paths = nx.single_source_shortest_path_length(G, v)\n",
    "    # y take VD(G) to be the sum of the lengths of the two shortest paths with maximum size\n",
    "    return sum(sorted(paths.values())[-3:-1])\n",
    "\n",
    "def getSampleSize(VD, eps=.05, delta=.05, c=.5):\n",
    "    \"\"\"\n",
    "    With probability at least 1 − δ, all the approximations computed by the algorithm are within ε\n",
    "    from their real value\n",
    "    https://pdfs.semanticscholar.org/213c/7f8e9a8a046020ebfa2a7aaa194b3c05a87a.pdf\n",
    "    \n",
    "    By default, this returns sample size needed for 5% error with at least 95% probability\n",
    "    \"\"\"\n",
    "    r = None\n",
    "    while r is None:\n",
    "        try:\n",
    "            r = (c / eps**2) * (np.floor(np.log2(VD - 2)) + np.log(1/delta))\n",
    "        except:\n",
    "            pass\n",
    "    return r\n",
    "\n",
    "def sampleUniformVertexPair(G):\n",
    "    \"\"\"\n",
    "    Returns a random pair of nodes (no self-loops)\n",
    "    \"\"\"\n",
    "    return np.random.choice(G.nodes(), 2, replace=False)\n",
    "\n",
    "def computeAllShortestPaths(G, u, v):\n",
    "    \"\"\"\n",
    "    Returns a list of lists (each sublist is a shortest path from u to v)\n",
    "    \"\"\"\n",
    "    try:\n",
    "        S = list(nx.all_shortest_paths(G,source=u,target=v))\n",
    "    except:\n",
    "        S = {}\n",
    "    return S\n",
    "\n",
    "\n",
    "def getShortestSubPaths(paths, t):\n",
    "    return [path[:-1] for path in paths if t in path]\n",
    "    \n",
    "\n",
    "def pathCount(paths, t):\n",
    "    return len([path for path in paths if t in path])\n",
    "\n",
    "def approximate_betweenness_centrality(G, eps=.05, delta=.05, c=.5):\n",
    "    \"\"\"\n",
    "    Computes the approximate betweenness centrality for the nodes in graph G\n",
    "    within epsilon error with probability at least 1 - δ.\n",
    "    https://pdfs.semanticscholar.org/213c/7f8e9a8a046020ebfa2a7aaa194b3c05a87a.pdf\n",
    "    \n",
    "    Fast Approximation of Betweenness Centrality through Sampling,\n",
    "    Matteo Riondato and Evgenios M. Kornaropoulos\n",
    "    \"\"\"\n",
    "    b = dict.fromkeys(G, 0.0)  # b[v]=0 for v in G\n",
    "    # approximate ~ guaranteed VD <= approx <= 2*VD\n",
    "    VD = getVertexDiameter(G)\n",
    "    r = None\n",
    "    while r is None:\n",
    "        # if VD <= 2, there are dragons\n",
    "        try:\n",
    "            r = int(getSampleSize(VD, eps=eps, delta=delta, c=1))\n",
    "        except:\n",
    "            pass\n",
    "    for i in range(r):\n",
    "        u, v = sampleUniformVertexPair(G)\n",
    "        S = computeAllShortestPaths(G, u, v)\n",
    "        if S:\n",
    "            # Random path sampling and estimation update\n",
    "            t = v\n",
    "            while t != u:\n",
    "                z_candidates = []\n",
    "                S_t = getShortestSubPaths(S, t)\n",
    "                sigma_ut = len(S_t)\n",
    "                z_probs = []\n",
    "                for path in S_t:\n",
    "                    # add immediate predecessors to be candidates for z\n",
    "                    predecessor = path[-1]\n",
    "                    z_candidates.append(predecessor)\n",
    "                    # the number of shortest paths from u to candidate z\n",
    "                    z_probs.append(pathCount(S_t, predecessor) / sigma_ut)\n",
    "                # normalize probability\n",
    "                z_probs = z_probs / np.sum(z_probs)\n",
    "                # choose a z with weighted probability\n",
    "                z = np.random.choice(z_candidates, 1, p=z_probs)[0]\n",
    "                if z != u:\n",
    "                    # if we haven't backed up all the way, update b(z)\n",
    "                    b[z] += 1 / r\n",
    "                t = z\n",
    "                S = S_t\n",
    "    return b"
   ]
  },
  {
   "cell_type": "code",
   "execution_count": 68,
   "metadata": {
    "collapsed": false,
    "deletable": true,
    "editable": true
   },
   "outputs": [
    {
     "data": {
      "text/plain": [
       "799.14645471079803"
      ]
     },
     "execution_count": 68,
     "metadata": {},
     "output_type": "execute_result"
    }
   ],
   "source": [
    "random_g = nx.random_graphs.erdos_renyi_graph(100, .5)\n",
    "VD = getVertexDiameter(random_g)\n",
    "r = getSampleSize(VD)\n",
    "r"
   ]
  },
  {
   "cell_type": "code",
   "execution_count": 69,
   "metadata": {
    "collapsed": false,
    "deletable": true,
    "editable": true,
    "scrolled": true
   },
   "outputs": [],
   "source": [
    "be = nx.betweenness_centrality(random_g)"
   ]
  },
  {
   "cell_type": "code",
   "execution_count": 70,
   "metadata": {
    "collapsed": false,
    "deletable": true,
    "editable": true,
    "scrolled": true
   },
   "outputs": [],
   "source": [
    "ba = approximate_betweenness_centrality(random_g, eps=.1, delta=.05, c=.5)"
   ]
  },
  {
   "cell_type": "code",
   "execution_count": 71,
   "metadata": {
    "collapsed": false
   },
   "outputs": [],
   "source": [
    "diff = np.array(list(be.values())) - np.array(list(ba.values()))"
   ]
  },
  {
   "cell_type": "code",
   "execution_count": 74,
   "metadata": {
    "collapsed": false
   },
   "outputs": [
    {
     "data": {
      "text/plain": [
       "(-0.00011609109353470302, 0.003299798950520948)"
      ]
     },
     "execution_count": 74,
     "metadata": {},
     "output_type": "execute_result"
    }
   ],
   "source": [
    "diff.mean(), diff.std()"
   ]
  },
  {
   "cell_type": "code",
   "execution_count": 6,
   "metadata": {
    "collapsed": true,
    "deletable": true,
    "editable": true
   },
   "outputs": [],
   "source": [
    "random_g = nx.random_graphs.erdos_renyi_graph(10, .5)"
   ]
  },
  {
   "cell_type": "code",
   "execution_count": 7,
   "metadata": {
    "collapsed": false,
    "deletable": true,
    "editable": true
   },
   "outputs": [
    {
     "name": "stdout",
     "output_type": "stream",
     "text": [
      "1000 loops, best of 3: 1.25 ms per loop\n"
     ]
    }
   ],
   "source": [
    "%timeit nx.betweenness_centrality(random_g)"
   ]
  },
  {
   "cell_type": "code",
   "execution_count": 8,
   "metadata": {
    "collapsed": false,
    "deletable": true,
    "editable": true
   },
   "outputs": [
    {
     "name": "stdout",
     "output_type": "stream",
     "text": [
      "10 loops, best of 3: 73 ms per loop\n"
     ]
    }
   ],
   "source": [
    "%timeit approximate_betweenness_centrality(random_g, eps=.2, delta=.1, c=.5)"
   ]
  },
  {
   "cell_type": "code",
   "execution_count": 25,
   "metadata": {
    "collapsed": true,
    "deletable": true,
    "editable": true
   },
   "outputs": [],
   "source": [
    "# 10, 20, 50, 100, 500\n",
    "exact = [.000925, .00467, .047, .344, 49.5, 273]\n",
    "approx = [.220, .248, .848, 1.41, 23.5, 128]\n",
    "nodes = [10, 20, 50, 100, 500, 1000]"
   ]
  },
  {
   "cell_type": "code",
   "execution_count": 27,
   "metadata": {
    "collapsed": false,
    "deletable": true,
    "editable": true
   },
   "outputs": [
    {
     "data": {
      "text/plain": [
       "<matplotlib.text.Text at 0x1167eb518>"
      ]
     },
     "execution_count": 27,
     "metadata": {},
     "output_type": "execute_result"
    },
    {
     "data": {
      "image/png": "[encoded data removed]",
      "text/plain": [
       "<matplotlib.figure.Figure at 0x1162b91d0>"
      ]
     },
     "metadata": {},
     "output_type": "display_data"
    }
   ],
   "source": [
    "plt.style.use(\"seaborn-whitegrid\")\n",
    "fig, ax = plt.subplots()\n",
    "fig.set_size_inches(14, 8)\n",
    "plt.plot(nodes, exact,label=\"Exact Betweenness\")\n",
    "plt.plot(nodes, approx, label=\"Approximate Betweenness\")\n",
    "plt.legend(fontsize=12)\n",
    "plt.xlabel(\"Nodes in Graph\", fontsize=14)\n",
    "plt.ylabel(\"Seconds\", fontsize=14)\n",
    "plt.suptitle(\"Runtime Difference in Exact Betweenness Vs. Approximation with \" + \n",
    "             \"PAC Guarantees (with probability at least 95%, values are within .1 of true values)\", fontsize=16)"
   ]
  },
  {
   "cell_type": "code",
   "execution_count": 63,
   "metadata": {
    "collapsed": true,
    "deletable": true,
    "editable": true
   },
   "outputs": [],
   "source": [
    "def betweenness_centrality(G, k=None, normalized=True,\n",
    "                           seed=None):\n",
    "    betweenness = dict.fromkeys(G, 0.0)  # b[v]=0 for v in G\n",
    "    if k is None:\n",
    "        nodes = G\n",
    "    else:\n",
    "        random.seed(seed)\n",
    "        nodes = random.sample(G.nodes(), k)\n",
    "    for s in nodes:\n",
    "        # single source shortest paths\n",
    "        S, P, sigma = _single_source_shortest_path_basic(G, s)\n",
    "        betweenness = _accumulate_basic(betweenness, S, P, sigma, s)\n",
    "    # rescaling\n",
    "    betweenness = _rescale(betweenness, len(G),\n",
    "                           normalized=normalized,\n",
    "                           directed=G.is_directed(),\n",
    "                           k=k)\n",
    "    return betweenness\n",
    "\n",
    "def _accumulate_basic(betweenness, S, P, sigma, s):\n",
    "    delta = dict.fromkeys(S, 0)\n",
    "    while S:\n",
    "        w = S.pop()\n",
    "        coeff = (1.0 + delta[w]) / sigma[w]\n",
    "        for v in P[w]:\n",
    "            delta[v] += sigma[v] * coeff\n",
    "        if w != s:\n",
    "            betweenness[w] += delta[w]\n",
    "    return betweenness\n",
    "\n",
    "def _rescale(betweenness, n, normalized, directed=False, k=None):\n",
    "    if normalized is True:\n",
    "        if n <= 2:\n",
    "            scale = None  # no normalization b=0 for all nodes\n",
    "        else:\n",
    "            scale = 1.0 / ((n - 1) * (n - 2))\n",
    "    else:  # rescale by 2 for undirected graphs\n",
    "        if not directed:\n",
    "            scale = 1.0 / 2.0\n",
    "        else:\n",
    "            scale = None\n",
    "    if scale is not None:\n",
    "        if k is not None:\n",
    "            scale = scale * n / k\n",
    "        for v in betweenness:\n",
    "            betweenness[v] *= scale\n",
    "    return betweenness\n",
    "\n",
    "def _single_source_shortest_path_basic(G, s):\n",
    "    S = []\n",
    "    P = {}\n",
    "    for v in G:\n",
    "        P[v] = []\n",
    "    sigma = dict.fromkeys(G, 0.0)    # sigma[v]=0 for v in G\n",
    "    D = {}\n",
    "    sigma[s] = 1.0\n",
    "    D[s] = 0\n",
    "    Q = [s]\n",
    "    while Q:   # use BFS to find shortest paths\n",
    "        v = Q.pop(0)\n",
    "        S.append(v)\n",
    "        Dv = D[v]\n",
    "        sigmav = sigma[v]\n",
    "        for w in G[v]:\n",
    "            if w not in D:\n",
    "                Q.append(w)\n",
    "                D[w] = Dv + 1\n",
    "            if D[w] == Dv + 1:   # this is a shortest path, count paths\n",
    "                sigma[w] += sigmav\n",
    "                P[w].append(v)  # predecessors\n",
    "    return S, P, sigma"
   ]
  },
  {
   "cell_type": "code",
   "execution_count": 40,
   "metadata": {
    "collapsed": false,
    "deletable": true,
    "editable": true
   },
   "outputs": [
    {
     "data": {
      "text/plain": [
       "{0: 0.009259259259259259,\n",
       " 1: 0.09259259259259257,\n",
       " 2: 0.09259259259259257,\n",
       " 3: 0.18055555555555555,\n",
       " 4: 0.06944444444444445,\n",
       " 5: 0.018518518518518517,\n",
       " 6: 0.009259259259259259,\n",
       " 7: 0.013888888888888888,\n",
       " 8: 0.04166666666666666,\n",
       " 9: 0.0}"
      ]
     },
     "execution_count": 40,
     "metadata": {},
     "output_type": "execute_result"
    }
   ],
   "source": [
    "betweenness_centrality(random_g)"
   ]
  },
  {
   "cell_type": "code",
   "execution_count": 28,
   "metadata": {
    "collapsed": false,
    "deletable": true,
    "editable": true
   },
   "outputs": [
    {
     "data": {
      "text/plain": [
       "{0: 0.009259259259259259,\n",
       " 1: 0.09259259259259257,\n",
       " 2: 0.09259259259259257,\n",
       " 3: 0.18055555555555555,\n",
       " 4: 0.06944444444444445,\n",
       " 5: 0.018518518518518517,\n",
       " 6: 0.009259259259259259,\n",
       " 7: 0.013888888888888888,\n",
       " 8: 0.04166666666666666,\n",
       " 9: 0.0}"
      ]
     },
     "execution_count": 28,
     "metadata": {},
     "output_type": "execute_result"
    }
   ],
   "source": [
    "nx.betweenness_centrality(random_g)"
   ]
  },
  {
   "cell_type": "code",
   "execution_count": 31,
   "metadata": {
    "collapsed": false,
    "deletable": true,
    "editable": true
   },
   "outputs": [
    {
     "name": "stdout",
     "output_type": "stream",
     "text": [
      "1000 loops, best of 3: 861 µs per loop\n"
     ]
    }
   ],
   "source": [
    "%timeit betweenness_centrality(random_g)"
   ]
  },
  {
   "cell_type": "code",
   "execution_count": 32,
   "metadata": {
    "collapsed": false,
    "deletable": true,
    "editable": true
   },
   "outputs": [
    {
     "name": "stdout",
     "output_type": "stream",
     "text": [
      "1000 loops, best of 3: 797 µs per loop\n"
     ]
    }
   ],
   "source": [
    "%timeit nx.betweenness_centrality(random_g)"
   ]
  },
  {
   "cell_type": "code",
   "execution_count": 16,
   "metadata": {
    "collapsed": false,
    "deletable": true,
    "editable": true
   },
   "outputs": [
    {
     "name": "stdout",
     "output_type": "stream",
     "text": [
      "1000 loops, best of 3: 618 µs per loop\n"
     ]
    }
   ],
   "source": [
    "%timeit nx.betweenness_centrality(random_g, k = 1)"
   ]
  },
  {
   "cell_type": "code",
   "execution_count": 299,
   "metadata": {
    "collapsed": false,
    "deletable": true,
    "editable": true
   },
   "outputs": [],
   "source": [
    "def get_game_graph(game):\n",
    "    return np.float32(nx.adjacency_matrix(game.graph).todense())\n",
    "\n",
    "def expand_dims(x):\n",
    "    y = x[np.newaxis,:]\n",
    "    y = np.expand_dims(y, axis=3)\n",
    "    return np.float32(y)\n",
    "\n",
    "x = get_game_graph(game1)"
   ]
  },
  {
   "cell_type": "code",
   "execution_count": 300,
   "metadata": {
    "collapsed": false,
    "deletable": true,
    "editable": true
   },
   "outputs": [
    {
     "data": {
      "text/plain": [
       "(10, 10)"
      ]
     },
     "execution_count": 300,
     "metadata": {},
     "output_type": "execute_result"
    }
   ],
   "source": [
    "x.shape"
   ]
  },
  {
   "cell_type": "code",
   "execution_count": 301,
   "metadata": {
    "collapsed": true,
    "deletable": true,
    "editable": true
   },
   "outputs": [],
   "source": [
    "def weight_variable(shape):\n",
    "  initial = tf.truncated_normal(shape, stddev=0.1)\n",
    "  return tf.Variable(initial)\n",
    "\n",
    "def bias_variable(shape):\n",
    "  initial = tf.constant(0.1, shape=shape)\n",
    "  return tf.Variable(initial)\n",
    "\n",
    "def conv2d(x, W):\n",
    "  return tf.nn.conv2d(x, W, strides=[1, 1, 1, 1], padding='SAME')\n",
    "\n",
    "def max_pool_2x2(x):\n",
    "  return tf.nn.max_pool(x, ksize=[1, 2, 2, 1],\n",
    "                        strides=[1, 2, 2, 1], padding='SAME')"
   ]
  },
  {
   "cell_type": "code",
   "execution_count": 302,
   "metadata": {
    "collapsed": true,
    "deletable": true,
    "editable": true
   },
   "outputs": [],
   "source": [
    "dim = rules.nb_players"
   ]
  },
  {
   "cell_type": "code",
   "execution_count": 320,
   "metadata": {
    "collapsed": false,
    "deletable": true,
    "editable": true
   },
   "outputs": [],
   "source": [
    "#tf.reset_default_graph()\n",
    "graph = tf.Graph()\n",
    "with graph.as_default():\n",
    "    #These lines establish the feed-forward part of the network used to choose actions\n",
    "    x = tf.placeholder(tf.float32, shape=[1, dim**2])\n",
    "    #x_image = tf.reshape(x, [-1,dim,dim,1])\n",
    "\n",
    "    #W = tf.Variable(tf.random_uniform([400,10],0,0.01))\n",
    "    #b = tf.Variable(tf.zeros([10]))\n",
    "\n",
    "    #W_conv1 = weight_variable([3, 3, 1, 32])\n",
    "    #b_conv1 = bias_variable([32])\n",
    "    #h_conv1 = tf.nn.relu(conv2d(x_image, W_conv1) + b_conv1)\n",
    "    #h_pool1 = max_pool_2x2(h_conv1)\n",
    "    W_fc1 = weight_variable([dim**2, 128])\n",
    "    b_fc1 = bias_variable([128])\n",
    "\n",
    "    #h_pool1_flat = tf.reshape(h_pool1, [-1, int(dim/2) * int(dim/2) * 32])\n",
    "    h_fc1 = tf.nn.relu(tf.matmul(x, W_fc1) + b_fc1)\n",
    "    W_fc2 = weight_variable([128, 64])\n",
    "    b_fc2 = bias_variable([64])\n",
    "    h_fc2 = tf.nn.relu(tf.matmul(h_fc1, W_fc2) + b_fc2)\n",
    "    keep_prob = tf.placeholder(tf.float32)\n",
    "    h_fc2_drop = tf.nn.dropout(h_fc2, keep_prob)\n",
    "    W_fc3 = weight_variable([64, dim])\n",
    "    b_fc3 = bias_variable([dim])\n",
    "    Qout = tf.matmul(h_fc2_drop, W_fc3) + b_fc3\n",
    "\n",
    "    #Qout = tf.matmul(x, W) + b\n",
    "    predict = tf.argmax(Qout,1)\n",
    "\n",
    "    #Below we obtain the loss by taking the sum of squares difference between the target and prediction Q values.\n",
    "    nextQ = tf.placeholder(shape=[1,dim],dtype=tf.float32)\n",
    "    loss = tf.reduce_sum(tf.square(nextQ - Qout))\n",
    "    trainer = tf.train.AdamOptimizer(learning_rate=0.001)\n",
    "    updateModel = trainer.minimize(loss)\n",
    "    init = tf.global_variables_initializer()"
   ]
  },
  {
   "cell_type": "code",
   "execution_count": 325,
   "metadata": {
    "collapsed": false,
    "deletable": true,
    "editable": true
   },
   "outputs": [
    {
     "name": "stdout",
     "output_type": "stream",
     "text": [
      "Episode 0\n",
      "Episode 10\n",
      "Episode 20\n",
      "Episode 30\n",
      "Episode 40\n",
      "Episode 50\n",
      "Episode 60\n",
      "Episode 70\n",
      "Episode 80\n",
      "Episode 90\n",
      "Episode 100\n",
      "Episode 110\n",
      "Episode 120\n",
      "Episode 130\n",
      "Episode 140\n",
      "Episode 150\n",
      "Episode 160\n",
      "Episode 170\n",
      "Episode 180\n",
      "Episode 190\n",
      "Episode 200\n",
      "Episode 210\n",
      "Episode 220\n",
      "Episode 230\n",
      "Episode 240\n",
      "Episode 250\n",
      "Episode 260\n",
      "Episode 270\n",
      "Episode 280\n",
      "Episode 290\n",
      "Episode 300\n",
      "Episode 310\n",
      "Episode 320\n",
      "Episode 330\n",
      "Episode 340\n",
      "Episode 350\n",
      "Episode 360\n",
      "Episode 370\n",
      "Episode 380\n",
      "Episode 390\n",
      "Episode 400\n",
      "Episode 410\n",
      "Episode 420\n",
      "Episode 430\n",
      "Episode 440\n",
      "Episode 450\n",
      "Episode 460\n",
      "Episode 470\n",
      "Episode 480\n",
      "Episode 490\n",
      "Percent of succesful episodes: 6.344%\n"
     ]
    }
   ],
   "source": [
    "# Set learning parameters\n",
    "y = .99\n",
    "e = 0.1\n",
    "num_episodes = 500\n",
    "#create lists to contain total rewards and steps per episode\n",
    "jList = []\n",
    "rList = []\n",
    "winList = []\n",
    "with tf.Session(graph=graph) as sess:\n",
    "    sess.run(init)\n",
    "    for i in range(num_episodes):\n",
    "        #Reset environment and get first new observation\n",
    "        if i % 10 == 0:\n",
    "            print(\"Episode {}\".format(i))\n",
    "        rules = Rules()\n",
    "        rules.nb_max_step = 100\n",
    "        rules.nb_players = dim\n",
    "        game1 = Game()\n",
    "        game1.rules = rules\n",
    "        player1 = Player()\n",
    "        player1.name = \"RL\"\n",
    "        player1.rules = rules\n",
    "        player1.type = EntityType.competitive_player\n",
    "        game1.add_player(player1)\n",
    "        \n",
    "        \n",
    "        player2 = Player()\n",
    "        player2.rules = rules\n",
    "        player2.name = \"Heuristic\"\n",
    "        player2.type = EntityType.competitive_player\n",
    "        strategy_builder = StrategyBuilder()\n",
    "        player2.strategy = strategy_builder.get_random_egoist_strategy()\n",
    "        game1.add_player(player2)\n",
    "        \n",
    "        game1.initialize_graph()\n",
    "        \n",
    "        s = get_game_graph(game1).flatten()\n",
    "        \n",
    "        rAll = 0\n",
    "        previous_centrality = 0\n",
    "        d = False\n",
    "        j = 0\n",
    "        win = 0\n",
    "        #The Q-Network\n",
    "        while j < rules.nb_max_step:\n",
    "            j+=1\n",
    "            #Choose an action by greedily (with e chance of random action) from the Q-network\n",
    "            a, allQ = sess.run([predict,Qout],feed_dict={x:s.astype(np.float32), keep_prob:.7})\n",
    "            if np.random.rand(1) < e:\n",
    "                a[0] = np.random.randint(dim)\n",
    "            #Get new state and reward from environment\n",
    "            action = None\n",
    "            if a[0] is not 0:\n",
    "                action = [(0, a[0])]\n",
    "            actions = list(game1.get_actions())\n",
    "            #action.extend(actions)\n",
    "            game1.play_round(actions=action)\n",
    "            s1 = get_game_graph(game1).flatten()\n",
    "            centralities = nx.betweenness_centrality(game1.graph)\n",
    "            centrality = centralities[0]\n",
    "            if centrality == previous_centrality:\n",
    "                r = 0\n",
    "            elif centrality > previous_centrality:\n",
    "                r = 1\n",
    "            else:\n",
    "                r = -1\n",
    "            #print(centrality, previous_centrality, r)\n",
    "            #Obtain the Q' values by feeding the new state through our network\n",
    "            Q1 = sess.run(Qout,feed_dict={x:s1, keep_prob:.7})\n",
    "            #Obtain maxQ' and set our target value for chosen action.\n",
    "            maxQ1 = np.max(Q1)\n",
    "            targetQ = allQ\n",
    "            targetQ[0,a[0]] = r + y*maxQ1\n",
    "            #Train our network using target and predicted Q values\n",
    "            updateModel.run(feed_dict={x:s,nextQ:targetQ, keep_prob:.7})\n",
    "            rAll += r\n",
    "            s = s1\n",
    "            previous_centrality = centrality\n",
    "            \n",
    "            opponent_centrality = centralities[1]\n",
    "            if centrality > opponent_centrality:\n",
    "                win += 1\n",
    "            if centrality == 1 and j > 20:\n",
    "                #Reduce chance of random action as we train the model.\n",
    "                e = 1./((i/50) + 10)\n",
    "                break\n",
    "        winList.append(win)\n",
    "        jList.append(j)\n",
    "        rList.append(rAll)\n",
    "rList = np.array(rList)\n",
    "print(\"Percent of succesful episodes: \" + str(np.sum(rList)/num_episodes) + \"%\")"
   ]
  },
  {
   "cell_type": "code",
   "execution_count": 326,
   "metadata": {
    "collapsed": false,
    "deletable": true,
    "editable": true
   },
   "outputs": [
    {
     "data": {
      "text/plain": [
       "[<matplotlib.lines.Line2D at 0x11963ba58>]"
      ]
     },
     "execution_count": 326,
     "metadata": {},
     "output_type": "execute_result"
    },
    {
     "data": {
      "image/png": "[encoded data removed]",
      "text/plain": [
       "<matplotlib.figure.Figure at 0x11965e668>"
      ]
     },
     "metadata": {},
     "output_type": "display_data"
    }
   ],
   "source": [
    "plt.plot(rList)"
   ]
  },
  {
   "cell_type": "code",
   "execution_count": 327,
   "metadata": {
    "collapsed": false,
    "deletable": true,
    "editable": true
   },
   "outputs": [
    {
     "data": {
      "text/plain": [
       "[<matplotlib.lines.Line2D at 0x1197bb940>]"
      ]
     },
     "execution_count": 327,
     "metadata": {},
     "output_type": "execute_result"
    },
    {
     "data": {
      "image/png": "[encoded data removed]",
      "text/plain": [
       "<matplotlib.figure.Figure at 0x1198db908>"
      ]
     },
     "metadata": {},
     "output_type": "display_data"
    }
   ],
   "source": [
    "plt.plot(winList)"
   ]
  },
  {
   "cell_type": "code",
   "execution_count": 328,
   "metadata": {
    "collapsed": false,
    "deletable": true,
    "editable": true
   },
   "outputs": [
    {
     "data": {
      "image/png": "[encoded data removed]",
      "text/plain": [
       "<matplotlib.figure.Figure at 0x11968f8d0>"
      ]
     },
     "metadata": {},
     "output_type": "display_data"
    }
   ],
   "source": [
    "plotter = Plotter()\n",
    "plotter.plot_state(game1)"
   ]
  },
  {
   "cell_type": "code",
   "execution_count": 1,
   "metadata": {
    "collapsed": false,
    "deletable": true,
    "editable": true
   },
   "outputs": [
    {
     "name": "stdout",
     "output_type": "stream",
     "text": [
      "iter 0. w: [ 1.76405235  0.40015721  0.97873798], solution: [ 0.5  0.1 -0.3], reward: -3.323094\n",
      "iter 20. w: [ 1.63796944  0.36987244  0.84497941], solution: [ 0.5  0.1 -0.3], reward: -2.678783\n",
      "iter 40. w: [ 1.50042904  0.33577052  0.70329169], solution: [ 0.5  0.1 -0.3], reward: -2.063040\n",
      "iter 60. w: [ 1.36438269  0.29247833  0.56990397], solution: [ 0.5  0.1 -0.3], reward: -1.540938\n",
      "iter 80. w: [ 1.2257328   0.25622233  0.43607161], solution: [ 0.5  0.1 -0.3], reward: -1.092895\n",
      "iter 100. w: [ 1.08819889  0.22827364  0.30415088], solution: [ 0.5  0.1 -0.3], reward: -0.727430\n",
      "iter 120. w: [ 0.95675286  0.19282042  0.16682465], solution: [ 0.5  0.1 -0.3], reward: -0.435164\n",
      "iter 140. w: [ 0.82214521  0.16161165  0.03600742], solution: [ 0.5  0.1 -0.3], reward: -0.220475\n",
      "iter 160. w: [ 0.70282088  0.12935569 -0.09779598], solution: [ 0.5  0.1 -0.3], reward: -0.082885\n",
      "iter 180. w: [ 0.58380424  0.11579811 -0.21083135], solution: [ 0.5  0.1 -0.3], reward: -0.015224\n",
      "iter 200. w: [ 0.52089064  0.09897718 -0.2761225 ], solution: [ 0.5  0.1 -0.3], reward: -0.001008\n",
      "iter 220. w: [ 0.50861791  0.10220363 -0.29023563], solution: [ 0.5  0.1 -0.3], reward: -0.000174\n",
      "iter 240. w: [ 0.50428202  0.10834192 -0.29828744], solution: [ 0.5  0.1 -0.3], reward: -0.000091\n",
      "iter 260. w: [ 0.50147991  0.1044559  -0.30255291], solution: [ 0.5  0.1 -0.3], reward: -0.000029\n",
      "iter 280. w: [ 0.50208135  0.0986722  -0.29841024], solution: [ 0.5  0.1 -0.3], reward: -0.000009\n"
     ]
    }
   ],
   "source": [
    "\"\"\"\n",
    "A bare bones examples of optimizing a black-box function (f) using\n",
    "Natural Evolution Strategies (NES), where the parameter distribution is a \n",
    "gaussian of fixed standard deviation.\n",
    "\"\"\"\n",
    "\n",
    "import numpy as np\n",
    "np.random.seed(0)\n",
    "\n",
    "# the function we want to optimize\n",
    "def f(w):\n",
    "  # here we would normally:\n",
    "  # ... 1) create a neural network with weights w\n",
    "  # ... 2) run the neural network on the environment for some time\n",
    "  # ... 3) sum up and return the total reward\n",
    "\n",
    "  # but for the purposes of an example, lets try to minimize\n",
    "  # the L2 distance to a specific solution vector. So the highest reward\n",
    "  # we can achieve is 0, when the vector w is exactly equal to solution\n",
    "  reward = -np.sum(np.square(solution - w))\n",
    "  return reward\n",
    "\n",
    "# hyperparameters\n",
    "npop = 50 # population size\n",
    "sigma = 0.1 # noise standard deviation\n",
    "alpha = 0.001 # learning rate\n",
    "\n",
    "# start the optimization\n",
    "solution = np.array([0.5, 0.1, -0.3])\n",
    "w = np.random.randn(3) # our initial guess is random\n",
    "for i in range(300):\n",
    "\n",
    "  # print current fitness of the most likely parameter setting\n",
    "  if i % 20 == 0:\n",
    "    print('iter %d. w: %s, solution: %s, reward: %f' % \n",
    "          (i, str(w), str(solution), f(w)))\n",
    "\n",
    "  # initialize memory for a population of w's, and their rewards\n",
    "  N = np.random.randn(npop, 3) # samples from a normal distribution N(0,1)\n",
    "  R = np.zeros(npop)\n",
    "  for j in range(npop):\n",
    "    w_try = w + sigma*N[j] # jitter w using gaussian of sigma 0.1\n",
    "    R[j] = f(w_try) # evaluate the jittered version\n",
    "\n",
    "  # standardize the rewards to have a gaussian distribution\n",
    "  A = (R - np.mean(R)) / np.std(R)\n",
    "  # perform the parameter update. The matrix multiply below\n",
    "  # is just an efficient way to sum up all the rows of the noise matrix N,\n",
    "  # where each row N[j] is weighted by A[j]\n",
    "  w = w + alpha/(npop*sigma) * np.dot(N.T, A)"
   ]
  },
  {
   "cell_type": "code",
   "execution_count": null,
   "metadata": {
    "collapsed": true,
    "deletable": true,
    "editable": true
   },
   "outputs": [],
   "source": []
  }
 ],
 "metadata": {
  "kernelspec": {
   "display_name": "Python [Root]",
   "language": "python",
   "name": "Python [Root]"
  },
  "language_info": {
   "codemirror_mode": {
    "name": "ipython",
    "version": 3
   },
   "file_extension": ".py",
   "mimetype": "text/x-python",
   "name": "python",
   "nbconvert_exporter": "python",
   "pygments_lexer": "ipython3",
   "version": "3.5.2"
  }
 },
 "nbformat": 4,
 "nbformat_minor": 1
}
